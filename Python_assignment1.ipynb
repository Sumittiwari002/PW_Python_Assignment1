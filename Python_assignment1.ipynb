{
 "cells": [
  {
   "cell_type": "code",
   "execution_count": null,
   "id": "083228e2-538b-4b12-9149-2c14fd57b72d",
   "metadata": {},
   "outputs": [],
   "source": [
    "\"\"\"\" 1. Explain with an example each when to use a for loop and a while loop.\n",
    "A for loop is used when you know the number of iterations in advance or when you are iterating over a sequence (like a list, tuple, string, or range).\n",
    "\"\"\""
   ]
  },
  {
   "cell_type": "code",
   "execution_count": 1,
   "id": "e25f9eef-0f58-4272-abe4-c845633fffbd",
   "metadata": {},
   "outputs": [
    {
     "name": "stdout",
     "output_type": "stream",
     "text": [
      "1\n",
      "2\n",
      "3\n",
      "4\n",
      "5\n"
     ]
    }
   ],
   "source": [
    "# Using for loop to print the numbers from 1 to 5\n",
    "for i in range(1, 6):\n",
    "    print(i)\n"
   ]
  },
  {
   "cell_type": "code",
   "execution_count": null,
   "id": "4d5574a6-0343-4865-b062-c6ff3387a59c",
   "metadata": {},
   "outputs": [],
   "source": [
    "\"\"\"A while loop is used when you need to repeat code until a condition is met, and you may not know the exact number of iterations in advance.\n",
    "  Let's say you want to print numbers from 1 to 5, but you’re using a counter that could be affected by other conditions (like user input or calculations).\"\"\""
   ]
  },
  {
   "cell_type": "code",
   "execution_count": 2,
   "id": "bb71f81b-5ccf-4fd5-85b6-d82743996955",
   "metadata": {},
   "outputs": [
    {
     "name": "stdout",
     "output_type": "stream",
     "text": [
      "1\n",
      "2\n",
      "3\n",
      "4\n",
      "5\n"
     ]
    }
   ],
   "source": [
    "# Using while loop\n",
    "i = 1\n",
    "while i <= 5:\n",
    "    print(i)\n",
    "    i += 1\n"
   ]
  },
  {
   "cell_type": "code",
   "execution_count": null,
   "id": "a76405c7-fc20-4fa3-9995-09c0cd68109c",
   "metadata": {},
   "outputs": [],
   "source": [
    "#2.Write a python program to print the sum and product of the first 10 natural numbers using for and while loop."
   ]
  },
  {
   "cell_type": "code",
   "execution_count": 3,
   "id": "24c984ad-7b94-4b27-a8a8-b2f80c5c4833",
   "metadata": {},
   "outputs": [
    {
     "name": "stdout",
     "output_type": "stream",
     "text": [
      "Sum using for loop: 55\n",
      "Product using for loop: 3628800\n"
     ]
    }
   ],
   "source": [
    "# Using for loop\n",
    "sum_for = 0\n",
    "product_for = 1\n",
    "\n",
    "for i in range(1, 11):  # First 10 natural numbers are 1 to 10\n",
    "    sum_for += i\n",
    "    product_for *= i\n",
    "\n",
    "print(\"Sum using for loop:\", sum_for)\n",
    "print(\"Product using for loop:\", product_for)\n"
   ]
  },
  {
   "cell_type": "code",
   "execution_count": 7,
   "id": "b8b5d982-84af-4142-acc1-e8c8236c1b20",
   "metadata": {},
   "outputs": [
    {
     "name": "stdout",
     "output_type": "stream",
     "text": [
      "Sum using while loop: 55\n",
      "Product using while loop: 3628800\n"
     ]
    }
   ],
   "source": [
    "# Using while loop\n",
    "sum_while = 0\n",
    "product_while = 1\n",
    "i = 1\n",
    "\n",
    "while i <= 10:\n",
    "    sum_while += i\n",
    "    product_while *= i\n",
    "    i += 1\n",
    "\n",
    "print(\"Sum using while loop:\", sum_while)\n",
    "print(\"Product using while loop:\", product_while)\n"
   ]
  },
  {
   "cell_type": "code",
   "execution_count": null,
   "id": "89e498e1-8bf8-4f80-ba80-a99bef4f08c2",
   "metadata": {},
   "outputs": [],
   "source": [
    "\"\"\"\n",
    "3.Create a python program to compute the electricity bill for a household.The per-unit charges in rupees are as follows: For the first 100 units, the user will be charged Rs. 4.5 per\n",
    "unit, for the next 100 units, the user will be charged Rs. 6 per unit, and for the next 100 units, the user will\n",
    "be charged Rs. 10 per unit, After 300 units and above the user will be charged Rs. 20 per unit.\n",
    "You are required to take the units of electricity consumed in a month from the user as input.\n",
    "Your program must pass this test case: when the unit of electricity consumed by the user in a month is\n",
    "310, the total electricity bill should be 2250.\"\"\""
   ]
  },
  {
   "cell_type": "code",
   "execution_count": 5,
   "id": "8b42a3c4-64c5-4354-a7c6-8170ed4a574c",
   "metadata": {},
   "outputs": [
    {
     "name": "stdin",
     "output_type": "stream",
     "text": [
      "Enter the number of units of electricity consumed:  310\n"
     ]
    },
    {
     "name": "stdout",
     "output_type": "stream",
     "text": [
      "Total electricity bill: Rs. 2250.0\n"
     ]
    }
   ],
   "source": [
    "def electricity_bill(units):\n",
    "    bill = 0\n",
    "\n",
    "    if units <= 100:\n",
    "        bill = units * 4.5\n",
    "    elif units <= 200:\n",
    "        bill = (100 * 4.5) + (units - 100) * 6\n",
    "    elif units <= 300:\n",
    "        bill = (100 * 4.5) + (100 * 6) + (units - 200) * 10\n",
    "    else:\n",
    "        bill = (100 * 4.5) + (100 * 6) + (100 * 10) + (units - 300) * 20\n",
    "\n",
    "    return bill\n",
    "\n",
    "units_consumed = int(input(\"Enter the number of units of electricity consumed: \"))\n",
    "\n",
    "total_bill = electricity_bill(units_consumed)\n",
    "\n",
    "print(f\"Total electricity bill: Rs. {total_bill}\")\n"
   ]
  },
  {
   "cell_type": "code",
   "execution_count": null,
   "id": "bc648135-9bb3-4899-8776-323fc1db0bf7",
   "metadata": {},
   "outputs": [],
   "source": [
    "\"\"\"\n",
    "4. Create a list of numbers from 1 to 100. Use for loop and while loop to calculate the cube of each\n",
    "number and if the cube of that number is divisible by 4 or 5 then append that number in a list and print\n",
    "that list.\"\"\""
   ]
  },
  {
   "cell_type": "code",
   "execution_count": 9,
   "id": "b358c4d5-35c4-47e5-897a-0044942931ee",
   "metadata": {},
   "outputs": [
    {
     "name": "stdout",
     "output_type": "stream",
     "text": [
      "Numbers whose cubes are divisible by 4 or 5 (for loop): [2, 4, 5, 6, 8, 10, 12, 14, 15, 16, 18, 20, 22, 24, 25, 26, 28, 30, 32, 34, 35, 36, 38, 40, 42, 44, 45, 46, 48, 50, 52, 54, 55, 56, 58, 60, 62, 64, 65, 66, 68, 70, 72, 74, 75, 76, 78, 80, 82, 84, 85, 86, 88, 90, 92, 94, 95, 96, 98, 100]\n"
     ]
    }
   ],
   "source": [
    "# Using for loop\n",
    "result_for = []\n",
    "numbers = list(range(1, 101))\n",
    "for num in numbers:\n",
    "    cube = num ** 3\n",
    "    if cube % 4 == 0 or cube % 5 == 0:\n",
    "        result_for.append(num)\n",
    "\n",
    "print(\"Numbers whose cubes are divisible by 4 or 5 (for loop):\", result_for)\n"
   ]
  },
  {
   "cell_type": "code",
   "execution_count": 8,
   "id": "ea7c295a-cdc5-45d7-ae2e-006bcb993ea6",
   "metadata": {},
   "outputs": [
    {
     "name": "stdout",
     "output_type": "stream",
     "text": [
      "Numbers whose cubes are divisible by 4 or 5 (while loop): [2, 4, 5, 6, 8, 10, 12, 14, 15, 16, 18, 20, 22, 24, 25, 26, 28, 30, 32, 34, 35, 36, 38, 40, 42, 44, 45, 46, 48, 50, 52, 54, 55, 56, 58, 60, 62, 64, 65, 66, 68, 70, 72, 74, 75, 76, 78, 80, 82, 84, 85, 86, 88, 90, 92, 94, 95, 96, 98, 100]\n"
     ]
    }
   ],
   "source": [
    "# Using while loop\n",
    "result_while = []\n",
    "i = 1\n",
    "while i <= 100:\n",
    "    cube = i ** 3\n",
    "    if cube % 4 == 0 or cube % 5 == 0:\n",
    "        result_while.append(i)\n",
    "    i += 1\n",
    "print(\"Numbers whose cubes are divisible by 4 or 5 (while loop):\", result_while)\n"
   ]
  },
  {
   "cell_type": "code",
   "execution_count": 10,
   "id": "25a4fe51-37e1-489b-91d0-09ad340e4424",
   "metadata": {},
   "outputs": [],
   "source": [
    "# 5.Write a program to filter count vowels in the below-given string.\n",
    "string = \"I want to become a data scientist\""
   ]
  },
  {
   "cell_type": "code",
   "execution_count": 11,
   "id": "f20cd0f3-6131-4f7b-9c25-1f0f6debf2bb",
   "metadata": {},
   "outputs": [
    {
     "name": "stdout",
     "output_type": "stream",
     "text": [
      "Vowels in the string: ['I', 'a', 'o', 'e', 'o', 'e', 'a', 'a', 'a', 'i', 'e', 'i']\n",
      "Total number of vowels: 12\n"
     ]
    }
   ],
   "source": [
    "string = \"I want to become a data scientist\"\n",
    "vowels = \"aeiouAEIOU\"\n",
    "\n",
    "vowel_count = 0\n",
    "vowel_list = []\n",
    "\n",
    "for char in string:\n",
    "    if char in vowels: \n",
    "        vowel_list.append(char)\n",
    "        vowel_count += 1\n",
    "\n",
    "print(\"Vowels in the string:\", vowel_list)\n",
    "print(\"Total number of vowels:\", vowel_count)\n"
   ]
  },
  {
   "cell_type": "code",
   "execution_count": null,
   "id": "9536abe6-4792-4dc5-b604-3f78b63f66a6",
   "metadata": {},
   "outputs": [],
   "source": []
  }
 ],
 "metadata": {
  "kernelspec": {
   "display_name": "Python 3 (ipykernel)",
   "language": "python",
   "name": "python3"
  },
  "language_info": {
   "codemirror_mode": {
    "name": "ipython",
    "version": 3
   },
   "file_extension": ".py",
   "mimetype": "text/x-python",
   "name": "python",
   "nbconvert_exporter": "python",
   "pygments_lexer": "ipython3",
   "version": "3.10.0"
  }
 },
 "nbformat": 4,
 "nbformat_minor": 5
}
